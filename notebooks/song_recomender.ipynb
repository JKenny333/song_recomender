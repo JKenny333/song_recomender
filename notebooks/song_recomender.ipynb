{
 "cells": [
  {
   "cell_type": "markdown",
   "id": "6e990807",
   "metadata": {},
   "source": [
    "<h1 style=\"text-align: center; font_size: 50px; color: green;\">Song Recomender </h1>"
   ]
  },
  {
   "cell_type": "code",
   "execution_count": 4,
   "id": "ed3992f0",
   "metadata": {},
   "outputs": [
    {
     "data": {
      "text/html": [
       "<div style=\"text-align: center;\">Your centered text goes here.</div>"
      ],
      "text/plain": [
       "<IPython.core.display.HTML object>"
      ]
     },
     "metadata": {},
     "output_type": "display_data"
    }
   ],
   "source": [
    "from IPython.display import display, HTML\n",
    "\n",
    "# Your HTML code with centered text\n",
    "html_code = '<div style=\"text-align: center;\">Your centered text goes here.</div>'\n",
    "\n",
    "# Display the centered text in the Jupyter cell\n",
    "display(HTML(html_code))\n"
   ]
  },
  {
   "cell_type": "markdown",
   "id": "bdeae2ae-acc9-4815-aff7-0f552607a0e4",
   "metadata": {},
   "source": [
    "## Goal for today\n",
    "\n",
    "look for differnt playlists/albums etc from varied genres\n",
    "varied genres will improve the clustering machine learning we will do tomorrow"
   ]
  },
  {
   "cell_type": "markdown",
   "id": "13560f22-8c7f-4d55-b14e-29c99b445f37",
   "metadata": {},
   "source": [
    "### Playlists\n",
    "- everything good\n",
    "- 80s\n",
    "- hip hop\n"
   ]
  },
  {
   "cell_type": "markdown",
   "id": "e8bdb6d0",
   "metadata": {
    "jp-MarkdownHeadingCollapsed": true
   },
   "source": [
    "### Pseudo code\n",
    "\n",
    "print welcome message\n",
    "\n",
    "ask for input\n",
    "\n",
    "if input is empty\n",
    "    print(\"You didn't enter a song. Please try again.\""
   ]
  },
  {
   "cell_type": "markdown",
   "id": "5e6ef525",
   "metadata": {},
   "source": [
    "### Ideas and Improvements\n",
    "#### General\n",
    "- Formatting text\n",
    "    - Check for ways to nicely format text  with bolds, headings etc\n",
    "    - check if buttons can be added\n",
    "- Make function download latest hot 100 so it is always checking latest\n",
    "- when not in hot 100 recommend song from alt 250 [done]\n",
    "- ask would you like to enter another song? [done]\n",
    "- user can choose number of recomendatiosn they would like\n",
    "- Investigate how i could integrate work out data, heart rate, running speed etc\n",
    "- Bonus feature: workout playlist creator: input genre, bpm, some sample songs and reccomender will recomend 10 songs for your workout playlist\n",
    "- add plugins for jupyter lab to colapse code  boxes\n",
    "- if user asks for a second recomendation ensure the same song is not recomendded [priority low]\n",
    "  \n",
    "\n",
    "#### Error handling\n",
    "- If user enters an artists name, prompt them with \"that is an artist not a song, we found this song by {artist} would you like to select this song?\n",
    "\n",
    "- for fuzzy matching, ask user \"did you mean...\"\n",
    "    -user selects y/n"
   ]
  },
  {
   "cell_type": "markdown",
   "id": "960c84fa",
   "metadata": {},
   "source": [
    "## To do\n",
    "#### Priority \n",
    "- embedd spotify player\n",
    "\n",
    "#### Bonus\n",
    "- research what each of the audio features do\n",
    "\n",
    "#### Tidying up\n",
    "- fix \"would you like to continue\" after providing hot 100 recommendation\n",
    "- fix \"did you mean\" to allow user response (y/n), if no, prompt user for new input\n"
   ]
  },
  {
   "cell_type": "markdown",
   "id": "e784695d-6a4b-4171-b487-ebb0a2e26c33",
   "metadata": {},
   "source": [
    "user input\n",
    "\n",
    "search for track id\n",
    "get audio features\n",
    "scale\n",
    "predict cluster\n",
    "recommend random song cluster\n"
   ]
  },
  {
   "cell_type": "code",
   "execution_count": 1,
   "id": "9369ed86-2fc7-4b0d-b7c3-58c14835ca1b",
   "metadata": {},
   "outputs": [],
   "source": [
    "from bs4 import BeautifulSoup\n",
    "import requests\n",
    "import pandas as pd\n",
    "import random\n",
    "from fuzzywuzzy import process\n",
    "from IPython.display import display, HTML\n",
    "import config\n",
    "import spotipy\n",
    "import json\n",
    "from spotipy.oauth2 import SpotifyClientCredentials\n",
    "from IPython.display import IFrame"
   ]
  },
  {
   "cell_type": "code",
   "execution_count": 4,
   "id": "0b5ec0d7-a710-4187-9ac1-30f560f092c5",
   "metadata": {},
   "outputs": [],
   "source": [
    "hot_100_df = pd.read_csv('../data/hot_100.csv',index_col = 0)\n",
    "alt_250 = pd.read_csv('../data/alt_250.csv',index_col = 0)\n",
    "\n",
    "\n",
    "#Initialize SpotiPy with user credentials\n",
    "sp = spotipy.Spotify(auth_manager=SpotifyClientCredentials(client_id= config.client_id,\n",
    "                                                           client_secret= config.client_secret))"
   ]
  },
  {
   "cell_type": "code",
   "execution_count": 1,
   "id": "49c0503d",
   "metadata": {},
   "outputs": [],
   "source": [
    "def song_recommender(hot_100_df, additional_songs_df):\n",
    "    print(\"\\n                                     Welcome to Gnod's Song Recommender!\\nThe Recommender allows you to search for a song you like. It will then inform you if the song is in the Billboard Hot 100 or not and also provide you with a recomendation for another song\\nNote: The song search is case insensitive.\\n\")\n",
    "    while True:\n",
    "        user_input = input(\"Please enter the name of a song.\\n  Song: \").strip()\n",
    "        if not user_input:\n",
    "            print(\"\\nYou didn't enter a song. Please try again.\\n  Song: \")\n",
    "            continue\n",
    "        \n",
    "        try:\n",
    "            # Convert all song titles to lowercase for case-insensitive comparison\n",
    "            songs_lower = hot_100_df['song'].str.lower()\n",
    "            \n",
    "            if user_input.lower() in songs_lower.values:\n",
    "                print(f\"\\n'{user_input}' is in the Billboard Hot 100.\")\n",
    "                \n",
    "                # Filter out the user's song and select a random recommendation\n",
    "                hot_recommendations = hot_100_df[~songs_lower.str.contains(user_input.lower())]\n",
    "                if not hot_recommendations.empty:\n",
    "                    recommended_hot_song = random.choice(hot_recommendations['song'].values)\n",
    "                    print(f\"\\nHere's another song you might like: '{recommended_hot_song}'\")\n",
    "                    cont = input(\"\\nWould you like to select another song?\\n  Response: \").lower()\n",
    "                    if cont == \"no\":\n",
    "                        print(\"\\nThank you for using Gnod's Song Recommender\\nGoodbye\")\n",
    "                        break\n",
    "                break  # Exit loop after providing a recommendation\n",
    "            \n",
    "            else:\n",
    "                \n",
    "                # Use fuzzy matching to find the closest match to user_input in the 'song' column\n",
    "                result = process.extractOne(user_input, songs_lower, score_cutoff=80)\n",
    "                # score_cutoff is the minimum score threshold for considering a match\n",
    "        \n",
    "                if result: # A match was found with a score above the cutoff\n",
    "                    closest_match, match_score, i = result\n",
    "                    print(f\"\\nDid you mean '{closest_match}'? It is in the Billboard Hot 100.\")\n",
    "                    break\n",
    "                else:\n",
    "                    print(f\"\\n'{user_input}' is not in the Billboard Hot 100\")\n",
    "                    recommended_other_song = random.choice(additional_songs_df['song'].values)\n",
    "                    print(f\"\\nHere's another song you might like: '{recommended_other_song}'\")\n",
    "                    \n",
    "        except KeyError:\n",
    "            print(\"\\nError: The DataFrame does not have a 'song' column.\")\n",
    "            break\n",
    "        \n",
    "        cont = input(\"\\nWould you like to select another song?\\n  Response: \").lower()\n",
    "        if cont == \"no\":\n",
    "            print(\"\\nThank you for using Gnod's Song Recommender\\nGoodbye\")\n",
    "            break\n",
    "\n"
   ]
  },
  {
   "cell_type": "code",
   "execution_count": 6,
   "id": "e890d71b-0642-4037-acd7-3be0f0e25859",
   "metadata": {},
   "outputs": [
    {
     "data": {
      "text/plain": [
       "'0KzAbK6nItSqNh8q70tb0K'"
      ]
     },
     "execution_count": 6,
     "metadata": {},
     "output_type": "execute_result"
    }
   ],
   "source": [
    "results = sp.search(q=\"user_input\",limit=1,market=\"GB\")\n",
    "track_id = results[\"tracks\"][\"items\"][0][\"id\"]\n",
    "track_id"
   ]
  },
  {
   "cell_type": "code",
   "execution_count": 7,
   "id": "96229ebd-5292-4d5b-919c-4d91b44eb13e",
   "metadata": {},
   "outputs": [
    {
     "data": {
      "text/html": [
       "\n",
       "        <iframe\n",
       "            width=\"320\"\n",
       "            height=\"80\"\n",
       "            src=\"https://open.spotify.com/embed/track/0KzAbK6nItSqNh8q70tb0K?frameborder=0&allowtransparency=true&allow=encrypted-media\"\n",
       "            frameborder=\"0\"\n",
       "            allowfullscreen\n",
       "            \n",
       "        ></iframe>\n",
       "        "
      ],
      "text/plain": [
       "<IPython.lib.display.IFrame at 0x13ce0e850>"
      ]
     },
     "execution_count": 7,
     "metadata": {},
     "output_type": "execute_result"
    }
   ],
   "source": [
    "IFrame(src=\"https://open.spotify.com/embed/track/\"+track_id,\n",
    "       width=\"320\",\n",
    "       height=\"80\",\n",
    "       frameborder=\"0\",\n",
    "       allowtransparency=\"true\",\n",
    "       allow=\"encrypted-media\",\n",
    "      )"
   ]
  },
  {
   "cell_type": "code",
   "execution_count": 2,
   "id": "449a3f09",
   "metadata": {},
   "outputs": [
    {
     "name": "stdout",
     "output_type": "stream",
     "text": [
      "\n",
      "                                     Welcome to Gnod's Song Recommender!\n",
      "The Recommender allows you to search for a song you like. It will then inform you if the song is in the Billboard Hot 100 or not and also provide you with a recomendation for another song\n",
      "Note: The song search is case insensitive.\n",
      "\n"
     ]
    },
    {
     "name": "stdin",
     "output_type": "stream",
     "text": [
      "Please enter the name of a song.\n",
      "  Song:  lovin on me\n"
     ]
    },
    {
     "name": "stdout",
     "output_type": "stream",
     "text": [
      "\n",
      "'lovin on me' is in the Billboard Hot 100.\n",
      "\n",
      "Here's another song you might like: 'Monaco'\n"
     ]
    },
    {
     "name": "stdin",
     "output_type": "stream",
     "text": [
      "\n",
      "Would you like to select another song?\n",
      "  Response:  test\n"
     ]
    }
   ],
   "source": [
    "song_recommender(hot_100_df,alt_250)"
   ]
  },
  {
   "cell_type": "code",
   "execution_count": null,
   "id": "91d8c7b1",
   "metadata": {},
   "outputs": [],
   "source": []
  },
  {
   "cell_type": "code",
   "execution_count": null,
   "id": "eead0ab7",
   "metadata": {},
   "outputs": [],
   "source": []
  }
 ],
 "metadata": {
  "kernelspec": {
   "display_name": "Python 3 (ipykernel)",
   "language": "python",
   "name": "python3"
  },
  "language_info": {
   "codemirror_mode": {
    "name": "ipython",
    "version": 3
   },
   "file_extension": ".py",
   "mimetype": "text/x-python",
   "name": "python",
   "nbconvert_exporter": "python",
   "pygments_lexer": "ipython3",
   "version": "3.11.5"
  }
 },
 "nbformat": 4,
 "nbformat_minor": 5
}
