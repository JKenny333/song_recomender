{
 "cells": [
  {
   "cell_type": "markdown",
   "id": "2c91df6f-d03d-444b-a7f5-a74d01c4a102",
   "metadata": {},
   "source": [
    "# Song Recomender Model"
   ]
  },
  {
   "cell_type": "markdown",
   "id": "755e9a48-1e5c-4a34-a4a4-d57d31ab3531",
   "metadata": {},
   "source": [
    "## Importing libraries"
   ]
  },
  {
   "cell_type": "code",
   "execution_count": 1,
   "id": "4aa5bbc9-6e71-4a1c-895f-ebd0c6a3e1ef",
   "metadata": {},
   "outputs": [],
   "source": [
    "import numpy as np\n",
    "import pandas as pd\n",
    "import pickle\n",
    "from sklearn import datasets # sklearn comes with some toy datasets to practice\n",
    "from sklearn.preprocessing import StandardScaler\n",
    "from sklearn.cluster import KMeans\n",
    "import matplotlib.pyplot as plt\n",
    "from sklearn.metrics import silhouette_score"
   ]
  },
  {
   "cell_type": "markdown",
   "id": "cfdfefbf-7920-4e87-bff1-32d704ecb781",
   "metadata": {},
   "source": [
    "## Loading the sklearn's wines dataset"
   ]
  },
  {
   "cell_type": "markdown",
   "id": "57fe1207-0013-409d-a63a-bb8fcf76f6c6",
   "metadata": {},
   "source": [
    "## Scaling features"
   ]
  },
  {
   "cell_type": "markdown",
   "id": "800388c3-5ef7-43d9-9049-ebd6ecc50c8b",
   "metadata": {},
   "source": [
    "## Clustering the wines with K-Means"
   ]
  },
  {
   "cell_type": "markdown",
   "id": "1f2ed339-9a9c-4c49-8d2a-688084aaaf83",
   "metadata": {},
   "source": [
    "## Playing with the parameters"
   ]
  },
  {
   "cell_type": "markdown",
   "id": "fbd6edb8-a53a-4a70-a1c8-a2058ae7e83b",
   "metadata": {},
   "source": [
    "## Choosing K"
   ]
  },
  {
   "cell_type": "markdown",
   "id": "3ee0c609-094a-45b8-873c-f296b452722a",
   "metadata": {},
   "source": [
    "## Silhouette"
   ]
  },
  {
   "cell_type": "markdown",
   "id": "54c8f2a8-b8bf-497a-a040-f8ea6e6c872e",
   "metadata": {},
   "source": [
    "## Saving with pickle"
   ]
  },
  {
   "cell_type": "code",
   "execution_count": null,
   "id": "038d0f09-6847-4eb7-aac2-3ef465a46cb4",
   "metadata": {},
   "outputs": [],
   "source": []
  }
 ],
 "metadata": {
  "kernelspec": {
   "display_name": "Python 3 (ipykernel)",
   "language": "python",
   "name": "python3"
  },
  "language_info": {
   "codemirror_mode": {
    "name": "ipython",
    "version": 3
   },
   "file_extension": ".py",
   "mimetype": "text/x-python",
   "name": "python",
   "nbconvert_exporter": "python",
   "pygments_lexer": "ipython3",
   "version": "3.11.5"
  }
 },
 "nbformat": 4,
 "nbformat_minor": 5
}
