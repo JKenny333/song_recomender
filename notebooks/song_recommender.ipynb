{
 "cells": [
  {
   "cell_type": "markdown",
   "id": "6e990807",
   "metadata": {},
   "source": [
    "<h1 style=\"text-align: center; font_size: 50px; color: green;\">Song recommender </h1>"
   ]
  },
  {
   "cell_type": "markdown",
   "id": "bdeae2ae-acc9-4815-aff7-0f552607a0e4",
   "metadata": {},
   "source": [
    "## Goal for today\n",
    "\n",
    "look for differnt playlists/albums etc from varied genres\n",
    "varied genres will improve the clustering machine learning we will do tomorrow"
   ]
  },
  {
   "cell_type": "markdown",
   "id": "13560f22-8c7f-4d55-b14e-29c99b445f37",
   "metadata": {},
   "source": [
    "### Playlists\n",
    "- everything good\n",
    "- 80s\n",
    "- hip hop\n"
   ]
  },
  {
   "cell_type": "markdown",
   "id": "5e6ef525",
   "metadata": {},
   "source": [
    "### Ideas and Improvements\n",
    "#### General\n",
    "- Formatting text\n",
    "    - Check for ways to nicely format text  with bolds, headings etc\n",
    "    - check if buttons can be added\n",
    "    - use html to format and colour text. Eg. colou users chosen song as green\n",
    "- Make function download latest hot 100 so it is always checking latest\n",
    "- when not in hot 100 recommend song from alt 250 [done]\n",
    "- ask would you like to enter another song? [done]\n",
    "- user can choose number of recommendatiosn they would like\n",
    "- Investigate how i could integrate work out data, heart rate, running speed etc\n",
    "- Bonus feature: workout playlist creator: input genre, bpm, some sample songs and reccomender will recommend 10 songs for your workout playlist\n",
    "- add plugins for jupyter lab to colapse code  boxes\n",
    "- if user asks for a second recommendation ensure the same song is not recommendded [priority low]\n",
    "- add artist and album info\n",
    "- see if program can automatically compile playlist\n",
    "  \n",
    "\n",
    "#### Error handling\n",
    "- If user enters an artists name, prompt them with \"that is an artist not a song, we found this song by {artist} would you like to select this song?\n",
    "\n",
    "- for fuzzy matching, ask user \"did you mean...\"\n",
    "    -user selects y/n"
   ]
  },
  {
   "cell_type": "markdown",
   "id": "960c84fa",
   "metadata": {},
   "source": [
    "## To do\n",
    "#### Priority \n",
    "\n",
    "\n",
    "#### Bonus\n",
    "- research what each of the audio features do\n",
    "\n",
    "#### Tidying up\n",
    "- fix \"would you like to continue\" after providing hot 100 recommendation\n",
    "- fix \"did you mean\" to allow user response (y/n), if no, prompt user for new input\n",
    "- ensure song reccomender does not reccomender the same song chosen by the user\n",
    "- did you mean? - no - search for reccomendation in database\n",
    "- did you mean? adjust threshold. currently its finding matches too easily\n"
   ]
  },
  {
   "cell_type": "code",
   "execution_count": 2,
   "id": "9369ed86-2fc7-4b0d-b7c3-58c14835ca1b",
   "metadata": {},
   "outputs": [],
   "source": [
    "from bs4 import BeautifulSoup\n",
    "import requests\n",
    "import pandas as pd\n",
    "import random\n",
    "from fuzzywuzzy import process\n",
    "from IPython.display import display, HTML\n",
    "import config\n",
    "import spotipy\n",
    "import json\n",
    "from spotipy.oauth2 import SpotifyClientCredentials\n",
    "from IPython.display import IFrame\n",
    "import pickle\n",
    "from sklearn.decomposition import PCA\n",
    "from sklearn.cluster import KMeans\n",
    "from sklearn.preprocessing import StandardScaler\n",
    "from sklearn.pipeline import Pipeline"
   ]
  },
  {
   "cell_type": "code",
   "execution_count": 3,
   "id": "49c0503d",
   "metadata": {},
   "outputs": [],
   "source": [
    "def load(filename = \"filename.pickle\"): \n",
    "    try: \n",
    "        with open(filename, \"rb\") as f: \n",
    "            return pickle.load(f) \n",
    "        \n",
    "    except FileNotFoundError: \n",
    "        print(\"File not found!\")\n",
    "\n",
    "def play_song(track_id):\n",
    "    iframe = IFrame(src=\"https://open.spotify.com/embed/track/\"+track_id,\n",
    "       width=\"320\",\n",
    "       height=\"80\",\n",
    "       frameborder=\"0\",\n",
    "       allowtransparency=\"true\",\n",
    "       allow=\"encrypted-media\",\n",
    "      )\n",
    "    display(iframe)\n",
    "    \n",
    "def find_track_id(song_name):\n",
    "    results = sp.search(q=song_name,limit=1,market=\"GB\")\n",
    "    track_id = results[\"tracks\"][\"items\"][0][\"id\"]\n",
    "    return track_id\n",
    "\n",
    "\n",
    "'''\n",
    "def recommend_similar_song(original_song_track_id, scaler, kmeans_model):\n",
    "    af_df = pd.DataFrame(sp.audio_features(original_song_track_id)).drop(columns=[\"mode\", \"key\", \"duration_ms\", \"liveness\"])\n",
    "    X = af_df.select_dtypes(include=['number'])\n",
    "    X_scaled = scaler.transform(X)  # This already returns a NumPy array\n",
    "    cluster_int = kmeans_model.predict(X_scaled)[0]  # Directly use the NumPy array for prediction\n",
    "    recommended_song_af = audio_features_db_df[audio_features_db_df['cluster'] == cluster_int].sample()\n",
    "    recommended_song_track_id = recommended_song_af[\"id\"].item()\n",
    "    return recommended_song_track_id\n",
    "\n",
    "\n",
    "def recommend_similar_song(original_song_track_id, scaler, kmeans_model):\n",
    "    af_df = pd.DataFrame(sp.audio_features(original_song_track_id)).drop(columns=[\"mode\", \"key\", \"duration_ms\", \"liveness\"])\n",
    "    X = af_df.select_dtypes(include=['number'])\n",
    "    X_scaled = scaler.transform(X) \n",
    "    pd.DataFrame(X_scaled)\n",
    "    X_scaled_df = pd.DataFrame(X_scaled, columns = X.columns)\n",
    "    clusters_array = kmeans_model.predict(X_scaled_df)\n",
    "    cluster_int = clusters_array[0]\n",
    "    recommended_song_af = audio_features_db_df[audio_features_db_df['cluster'] == cluster_int].sample()\n",
    "    recommended_song_track_id = recommended_song_af[\"id\"].item()\n",
    "    return recommended_song_track_id\n",
    "\n",
    "'''\n",
    "def recommend_similar_song(original_song_track_id, scaler, pca, kmeans_model, audio_features_db_df):\n",
    "    # Fetch audio features for the original song\n",
    "    af_df = pd.DataFrame(sp.audio_features(original_song_track_id))\n",
    "    \n",
    "    # Select numerical features and scale them\n",
    "    X = af_df.select_dtypes(include=['number']).drop(columns=[\"mode\", \"key\", \"duration_ms\", \"liveness\"])\n",
    "    X_scaled = scaler.transform(X)\n",
    "    \n",
    "    # Transform features using already fitted PCA\n",
    "    X_pca = pca.transform(X_scaled)\n",
    "    \n",
    "    # Predict the cluster for the transformed features\n",
    "    cluster_int = kmeans_model.predict(X_pca)[0]\n",
    "    \n",
    "    # Sample a song from the same cluster, excluding the original song\n",
    "    recommended_song_af = audio_features_db_df[(audio_features_db_df['cluster'] == cluster_int) & \n",
    "                                               (audio_features_db_df['id'] != original_song_track_id)].sample()\n",
    "    \n",
    "    # Return the track ID of the recommended song\n",
    "    recommended_song_track_id = recommended_song_af[\"id\"].item()\n",
    "    return recommended_song_track_id\n",
    "\n",
    "def recommend_hot_song(user_input, hot_100_df):\n",
    "    # Convert all hot 100 song titles to lowercase for case-insensitive comparison\n",
    "    songs_lower = hot_100_df['song'].str.lower()\n",
    "    # Filter out the user's song and select a random recommendation from hot 100\n",
    "    hot_recommendations = hot_100_df[~songs_lower.str.contains(user_input.lower())]\n",
    "    if not hot_recommendations.empty:\n",
    "        recommended_hot_song = random.choice(hot_recommendations['song'].values)\n",
    "        print(f\"\\nHere's another song from the Hot 100: '{recommended_hot_song}'\\nGive it a listen!\")\n",
    "        rec_hot_song_track_id = find_track_id(recommended_hot_song)\n",
    "    return rec_hot_song_track_id\n",
    "    \n",
    "\n",
    "def would_you_like_to_select_another_song():\n",
    "    while True:  # Loop until a valid response is received\n",
    "        cont = input(\"\\nWould you like to select another song? (yes/no):\\n  Response: \").strip().lower()\n",
    "        if cont in [\"no\", \"n\"]:\n",
    "            print(\"\\nThank you for using Gnod's Song Recommender. Goodbye!\")\n",
    "            return False  # User does not want to continue\n",
    "        elif cont in [\"yes\", \"y\"]:\n",
    "            return True  # User wants to continue\n",
    "        else:\n",
    "            print(\"Invalid response. Please answer with 'yes' or 'no'.\")  # Ask again for a valid response\n",
    "\n",
    "def song_recommender(hot_100_df, audio_features_db_df, scaler, kmeans_model):\n",
    "    print(\"\\n                                     Welcome to Gnod's Song Recommender!\\nThe Recommender allows you to search for a song you like. It will then inform you if the song is in the Billboard Hot 100 or not and also provide you with a recommendation for another song\\nNote: The song search is case insensitive.\\n\")\n",
    "    # Convert all hot 100 song titles to lowercase for case-insensitive comparison\n",
    "    songs_lower = hot_100_df['song'].str.lower()\n",
    "    \n",
    "    while True:\n",
    "        # Get user input\n",
    "        user_input = input(\"Please enter the name of a song.\\n  Song: \").strip().title()\n",
    "        # Find_track_id\n",
    "        track_id = find_track_id(user_input)\n",
    "        play_song(track_id)\n",
    "        \n",
    "        if not user_input:\n",
    "            print(\"\\nYou didn't enter a song. Please try again.\\n  Song: \")\n",
    "            continue\n",
    "        \n",
    "        try:       \n",
    "            if user_input.lower() in songs_lower.values:\n",
    "                print(f\"\\n'{user_input.title()}' is currently in the Billboard Hot 100.\")                \n",
    "                rec_hot_song_track_id = recommend_hot_song(user_input, hot_100_df)\n",
    "                play_song(rec_hot_song_track_id)\n",
    "                would_you_like_to_select_another_song()\n",
    "                break  # Exit loop after providing a recommendation\n",
    "            \n",
    "            else:\n",
    "                \n",
    "                # Use fuzzy matching to find the closest match to user_input in the 'song' column\n",
    "                result = process.extractOne(user_input, songs_lower, score_cutoff= 87)\n",
    "                # score_cutoff is the minimum score threshold for considering a match\n",
    "        \n",
    "                if result: # A match was found with a score above the cutoff\n",
    "                    closest_match, match_score, i = result\n",
    "                    input_dym = input(f\"\\nDid you mean '{closest_match.title()}'? (yes/no)\\n\").strip().lower()\n",
    "                    if input_dym == \"yes\":\n",
    "                        print(f\"\\n'{closest_match.title()}' is currently in the Billboard Hot 100.\")                \n",
    "                        rec_hot_song_track_id = recommend_hot_song(closest_match, hot_100_df)\n",
    "                        play_song(rec_hot_song_track_id)\n",
    "                        would_you_like_to_select_another_song()\n",
    "                        break\n",
    "                else:\n",
    "                    print(f\"\\n'Here's a song I think you'll like.\\n\")\n",
    "                    original_song_track_id = find_track_id(user_input)\n",
    "                    recommended_song_track_id = recommend_similar_song(original_song_track_id, scaler, kmeans_model)\n",
    "                    play_song(recommended_song_track_id)\n",
    "                    \n",
    "        except KeyError:\n",
    "            print(\"\\nError: The DataFrame does not have a 'song' column.\")\n",
    "            break\n",
    "        \n",
    "        cont = input(\"\\nWould you like to select another song?\\n  Response: \").lower()\n",
    "        if cont == \"no\":\n",
    "            print(\"\\nThank you for using Gnod's Song Recommender\\nGoodbye\")\n",
    "            break\n",
    "\n"
   ]
  },
  {
   "cell_type": "code",
   "execution_count": 4,
   "id": "0b5ec0d7-a710-4187-9ac1-30f560f092c5",
   "metadata": {},
   "outputs": [],
   "source": [
    "#load datasets\n",
    "hot_100_df = pd.read_csv('../data/hot_100.csv',index_col = 0)\n",
    "alt_250 = pd.read_csv('../data/alt_250.csv',index_col = 0)\n",
    "audio_features_db_df = pd.read_csv(\"../data/audio_features_db_df.csv\",index_col = 0)\n",
    "\n",
    "#Initialize SpotiPy with user credentials\n",
    "sp = spotipy.Spotify(auth_manager=SpotifyClientCredentials(client_id= config.client_id,\n",
    "                                                           client_secret= config.client_secret))\n",
    "#Load scalers and models\n",
    "scaler= load(filename=\"model/scaler1.pickle\")\n",
    "kmeans_model = load(filename=\"model/kmeans_1.pickle\")\n",
    "pca = load(filename=\"model/pca.pickle\")"
   ]
  },
  {
   "cell_type": "code",
   "execution_count": null,
   "id": "449a3f09",
   "metadata": {},
   "outputs": [
    {
     "name": "stdout",
     "output_type": "stream",
     "text": [
      "\n",
      "                                     Welcome to Gnod's Song Recommender!\n",
      "The Recommender allows you to search for a song you like. It will then inform you if the song is in the Billboard Hot 100 or not and also provide you with a recommendation for another song\n",
      "Note: The song search is case insensitive.\n",
      "\n"
     ]
    },
    {
     "name": "stdin",
     "output_type": "stream",
     "text": [
      "Please enter the name of a song.\n",
      "  Song:  time to say goodbye\n"
     ]
    },
    {
     "data": {
      "text/html": [
       "\n",
       "        <iframe\n",
       "            width=\"320\"\n",
       "            height=\"80\"\n",
       "            src=\"https://open.spotify.com/embed/track/633Zk0NRe7kuglSgPmUvSG?frameborder=0&allowtransparency=true&allow=encrypted-media\"\n",
       "            frameborder=\"0\"\n",
       "            allowfullscreen\n",
       "            \n",
       "        ></iframe>\n",
       "        "
      ],
      "text/plain": [
       "<IPython.lib.display.IFrame at 0x1516419d0>"
      ]
     },
     "metadata": {},
     "output_type": "display_data"
    },
    {
     "name": "stdout",
     "output_type": "stream",
     "text": [
      "\n",
      "'Here's a song I think you'll like.\n",
      "\n"
     ]
    },
    {
     "data": {
      "text/html": [
       "\n",
       "        <iframe\n",
       "            width=\"320\"\n",
       "            height=\"80\"\n",
       "            src=\"https://open.spotify.com/embed/track/7whbB67mJZzBpvMmnyVWRl?frameborder=0&allowtransparency=true&allow=encrypted-media\"\n",
       "            frameborder=\"0\"\n",
       "            allowfullscreen\n",
       "            \n",
       "        ></iframe>\n",
       "        "
      ],
      "text/plain": [
       "<IPython.lib.display.IFrame at 0x152ec7a50>"
      ]
     },
     "metadata": {},
     "output_type": "display_data"
    },
    {
     "name": "stdin",
     "output_type": "stream",
     "text": [
      "\n",
      "Would you like to select another song?\n",
      "  Response:  yes\n",
      "Please enter the name of a song.\n",
      "  Song:  sunshine\n"
     ]
    },
    {
     "data": {
      "text/html": [
       "\n",
       "        <iframe\n",
       "            width=\"320\"\n",
       "            height=\"80\"\n",
       "            src=\"https://open.spotify.com/embed/track/5r43qanLhUCdBj8HN3fa6B?frameborder=0&allowtransparency=true&allow=encrypted-media\"\n",
       "            frameborder=\"0\"\n",
       "            allowfullscreen\n",
       "            \n",
       "        ></iframe>\n",
       "        "
      ],
      "text/plain": [
       "<IPython.lib.display.IFrame at 0x151dd3850>"
      ]
     },
     "metadata": {},
     "output_type": "display_data"
    },
    {
     "name": "stdout",
     "output_type": "stream",
     "text": [
      "\n",
      "'Here's a song I think you'll like.\n",
      "\n"
     ]
    },
    {
     "data": {
      "text/html": [
       "\n",
       "        <iframe\n",
       "            width=\"320\"\n",
       "            height=\"80\"\n",
       "            src=\"https://open.spotify.com/embed/track/2gxnODNtIvc2qdlEVuV1iR?frameborder=0&allowtransparency=true&allow=encrypted-media\"\n",
       "            frameborder=\"0\"\n",
       "            allowfullscreen\n",
       "            \n",
       "        ></iframe>\n",
       "        "
      ],
      "text/plain": [
       "<IPython.lib.display.IFrame at 0x1529e0f50>"
      ]
     },
     "metadata": {},
     "output_type": "display_data"
    },
    {
     "name": "stdin",
     "output_type": "stream",
     "text": [
      "\n",
      "Would you like to select another song?\n",
      "  Response:  yes\n",
      "Please enter the name of a song.\n",
      "  Song:  born in the usa\n"
     ]
    },
    {
     "data": {
      "text/html": [
       "\n",
       "        <iframe\n",
       "            width=\"320\"\n",
       "            height=\"80\"\n",
       "            src=\"https://open.spotify.com/embed/track/0yJqMTbkajyRhmwSjCd8Kq?frameborder=0&allowtransparency=true&allow=encrypted-media\"\n",
       "            frameborder=\"0\"\n",
       "            allowfullscreen\n",
       "            \n",
       "        ></iframe>\n",
       "        "
      ],
      "text/plain": [
       "<IPython.lib.display.IFrame at 0x1529e17d0>"
      ]
     },
     "metadata": {},
     "output_type": "display_data"
    },
    {
     "name": "stdout",
     "output_type": "stream",
     "text": [
      "\n",
      "'Here's a song I think you'll like.\n",
      "\n"
     ]
    },
    {
     "data": {
      "text/html": [
       "\n",
       "        <iframe\n",
       "            width=\"320\"\n",
       "            height=\"80\"\n",
       "            src=\"https://open.spotify.com/embed/track/66g9BTt17Bw0J0g2c0igJ5?frameborder=0&allowtransparency=true&allow=encrypted-media\"\n",
       "            frameborder=\"0\"\n",
       "            allowfullscreen\n",
       "            \n",
       "        ></iframe>\n",
       "        "
      ],
      "text/plain": [
       "<IPython.lib.display.IFrame at 0x153f47c50>"
      ]
     },
     "metadata": {},
     "output_type": "display_data"
    },
    {
     "name": "stdin",
     "output_type": "stream",
     "text": [
      "\n",
      "Would you like to select another song?\n",
      "  Response:  yes\n",
      "Please enter the name of a song.\n",
      "  Song:  animals - martin garrix\n"
     ]
    },
    {
     "data": {
      "text/html": [
       "\n",
       "        <iframe\n",
       "            width=\"320\"\n",
       "            height=\"80\"\n",
       "            src=\"https://open.spotify.com/embed/track/4g6m1iaAsgdgDqgxGtvY0C?frameborder=0&allowtransparency=true&allow=encrypted-media\"\n",
       "            frameborder=\"0\"\n",
       "            allowfullscreen\n",
       "            \n",
       "        ></iframe>\n",
       "        "
      ],
      "text/plain": [
       "<IPython.lib.display.IFrame at 0x152f3e790>"
      ]
     },
     "metadata": {},
     "output_type": "display_data"
    },
    {
     "name": "stdout",
     "output_type": "stream",
     "text": [
      "\n",
      "'Here's a song I think you'll like.\n",
      "\n"
     ]
    },
    {
     "data": {
      "text/html": [
       "\n",
       "        <iframe\n",
       "            width=\"320\"\n",
       "            height=\"80\"\n",
       "            src=\"https://open.spotify.com/embed/track/6vDJ5fDkZmFtthJRqko6jw?frameborder=0&allowtransparency=true&allow=encrypted-media\"\n",
       "            frameborder=\"0\"\n",
       "            allowfullscreen\n",
       "            \n",
       "        ></iframe>\n",
       "        "
      ],
      "text/plain": [
       "<IPython.lib.display.IFrame at 0x10641c610>"
      ]
     },
     "metadata": {},
     "output_type": "display_data"
    },
    {
     "name": "stdin",
     "output_type": "stream",
     "text": [
      "\n",
      "Would you like to select another song?\n",
      "  Response:  yes\n",
      "Please enter the name of a song.\n",
      "  Song:  macarena\n"
     ]
    },
    {
     "data": {
      "text/html": [
       "\n",
       "        <iframe\n",
       "            width=\"320\"\n",
       "            height=\"80\"\n",
       "            src=\"https://open.spotify.com/embed/track/6mhw2fEPH4fMF0wolNm96e?frameborder=0&allowtransparency=true&allow=encrypted-media\"\n",
       "            frameborder=\"0\"\n",
       "            allowfullscreen\n",
       "            \n",
       "        ></iframe>\n",
       "        "
      ],
      "text/plain": [
       "<IPython.lib.display.IFrame at 0x152edc790>"
      ]
     },
     "metadata": {},
     "output_type": "display_data"
    },
    {
     "name": "stdout",
     "output_type": "stream",
     "text": [
      "\n",
      "'Here's a song I think you'll like.\n",
      "\n"
     ]
    },
    {
     "data": {
      "text/html": [
       "\n",
       "        <iframe\n",
       "            width=\"320\"\n",
       "            height=\"80\"\n",
       "            src=\"https://open.spotify.com/embed/track/1JUTIdmN2n8YPajApdUYJw?frameborder=0&allowtransparency=true&allow=encrypted-media\"\n",
       "            frameborder=\"0\"\n",
       "            allowfullscreen\n",
       "            \n",
       "        ></iframe>\n",
       "        "
      ],
      "text/plain": [
       "<IPython.lib.display.IFrame at 0x143af7510>"
      ]
     },
     "metadata": {},
     "output_type": "display_data"
    }
   ],
   "source": [
    "song_recommender(hot_100_df, audio_features_db_df, scaler, kmeans_model)"
   ]
  },
  {
   "cell_type": "code",
   "execution_count": null,
   "id": "4cde03ac-1537-4706-a983-06e2e3441ab3",
   "metadata": {},
   "outputs": [],
   "source": [
    "recommended_song_af = audio_features_db_df[audio_features_db_df['cluster'] == 2].sample()\n",
    "recommended_song_track_id = recommended_song_af[\"id\"]\n",
    "play_song(recommended_song_track_id)"
   ]
  },
  {
   "cell_type": "code",
   "execution_count": null,
   "id": "0dea592a-55f5-4c7a-85ae-0dfd8d64238f",
   "metadata": {},
   "outputs": [],
   "source": [
    "audio_features_db_df"
   ]
  },
  {
   "cell_type": "code",
   "execution_count": null,
   "id": "e2d368c3-9dc1-497a-99b9-ad91cd2fc0a2",
   "metadata": {},
   "outputs": [],
   "source": [
    "recommended_song_af = audio_features_db_df[audio_features_db_df['cluster'] == 1].sample()\n"
   ]
  },
  {
   "cell_type": "code",
   "execution_count": null,
   "id": "e59e0b2e-07de-4d5a-a27f-8b52ed544535",
   "metadata": {},
   "outputs": [],
   "source": [
    "recommended_song_track_id = recommended_song_af[\"id\"]"
   ]
  },
  {
   "cell_type": "code",
   "execution_count": null,
   "id": "7848f9cf-37a2-41c2-a91f-7d1e566891d4",
   "metadata": {},
   "outputs": [],
   "source": [
    "recommended_song_track_id = find_track_id(recommended_song_af)\n",
    "recommended_song_track_id"
   ]
  },
  {
   "cell_type": "code",
   "execution_count": null,
   "id": "2d653bbf-5221-4a1b-8bdc-68d406deb493",
   "metadata": {},
   "outputs": [],
   "source": [
    "play_song(recommended_song_track_id)"
   ]
  },
  {
   "cell_type": "code",
   "execution_count": null,
   "id": "724f82ff-3b0c-495d-be07-2eff7f86796f",
   "metadata": {},
   "outputs": [],
   "source": [
    " # Select numerical features and scale them\n",
    "    X = af_df.select_dtypes(include=['number']).drop(columns=[\"mode\", \"key\", \"duration_ms\", \"liveness\"])\n",
    "    X_scaled = scaler.transform(X)\n",
    "    \n",
    "    # Transform features using already fitted PCA\n",
    "    X_pca = pca.transform(X_scaled)\n",
    "\n",
    "print(X_pca.shape)  # This should output something like (1, 3) for a single song"
   ]
  },
  {
   "cell_type": "code",
   "execution_count": 5,
   "id": "2ff698bf-a4e5-4b80-ba27-5142d11866f9",
   "metadata": {},
   "outputs": [
    {
     "data": {
      "text/html": [
       "<div>\n",
       "<style scoped>\n",
       "    .dataframe tbody tr th:only-of-type {\n",
       "        vertical-align: middle;\n",
       "    }\n",
       "\n",
       "    .dataframe tbody tr th {\n",
       "        vertical-align: top;\n",
       "    }\n",
       "\n",
       "    .dataframe thead th {\n",
       "        text-align: right;\n",
       "    }\n",
       "</style>\n",
       "<table border=\"1\" class=\"dataframe\">\n",
       "  <thead>\n",
       "    <tr style=\"text-align: right;\">\n",
       "      <th></th>\n",
       "      <th>id</th>\n",
       "      <th>danceability</th>\n",
       "      <th>energy</th>\n",
       "      <th>loudness</th>\n",
       "      <th>speechiness</th>\n",
       "      <th>acousticness</th>\n",
       "      <th>instrumentalness</th>\n",
       "      <th>valence</th>\n",
       "      <th>tempo</th>\n",
       "      <th>time_signature</th>\n",
       "      <th>cluster</th>\n",
       "    </tr>\n",
       "  </thead>\n",
       "  <tbody>\n",
       "    <tr>\n",
       "      <th>0</th>\n",
       "      <td>6yzJiHzsscf0n88xb9aNT4</td>\n",
       "      <td>0.382</td>\n",
       "      <td>0.451</td>\n",
       "      <td>-6.606</td>\n",
       "      <td>0.0293</td>\n",
       "      <td>0.5570</td>\n",
       "      <td>0.000034</td>\n",
       "      <td>0.506</td>\n",
       "      <td>150.803</td>\n",
       "      <td>4</td>\n",
       "      <td>24</td>\n",
       "    </tr>\n",
       "    <tr>\n",
       "      <th>1</th>\n",
       "      <td>5zdXRoKLZ54VBdbdn7yhz4</td>\n",
       "      <td>0.742</td>\n",
       "      <td>0.375</td>\n",
       "      <td>-13.829</td>\n",
       "      <td>0.0482</td>\n",
       "      <td>0.3970</td>\n",
       "      <td>0.901000</td>\n",
       "      <td>0.105</td>\n",
       "      <td>102.023</td>\n",
       "      <td>4</td>\n",
       "      <td>17</td>\n",
       "    </tr>\n",
       "    <tr>\n",
       "      <th>2</th>\n",
       "      <td>5qvCKAyjgHnpR5c63OedCY</td>\n",
       "      <td>0.585</td>\n",
       "      <td>0.552</td>\n",
       "      <td>-10.613</td>\n",
       "      <td>0.0353</td>\n",
       "      <td>0.1940</td>\n",
       "      <td>0.017100</td>\n",
       "      <td>0.496</td>\n",
       "      <td>100.089</td>\n",
       "      <td>4</td>\n",
       "      <td>12</td>\n",
       "    </tr>\n",
       "    <tr>\n",
       "      <th>3</th>\n",
       "      <td>2vByA9JgfMU2bPjUqmxCdv</td>\n",
       "      <td>0.405</td>\n",
       "      <td>0.535</td>\n",
       "      <td>-7.504</td>\n",
       "      <td>0.0531</td>\n",
       "      <td>0.0531</td>\n",
       "      <td>0.106000</td>\n",
       "      <td>0.637</td>\n",
       "      <td>97.698</td>\n",
       "      <td>4</td>\n",
       "      <td>10</td>\n",
       "    </tr>\n",
       "    <tr>\n",
       "      <th>4</th>\n",
       "      <td>0pPQwIjwqduvLfZORYYEaI</td>\n",
       "      <td>0.586</td>\n",
       "      <td>0.526</td>\n",
       "      <td>-6.928</td>\n",
       "      <td>0.0564</td>\n",
       "      <td>0.5550</td>\n",
       "      <td>0.000000</td>\n",
       "      <td>0.456</td>\n",
       "      <td>107.153</td>\n",
       "      <td>4</td>\n",
       "      <td>1</td>\n",
       "    </tr>\n",
       "    <tr>\n",
       "      <th>...</th>\n",
       "      <td>...</td>\n",
       "      <td>...</td>\n",
       "      <td>...</td>\n",
       "      <td>...</td>\n",
       "      <td>...</td>\n",
       "      <td>...</td>\n",
       "      <td>...</td>\n",
       "      <td>...</td>\n",
       "      <td>...</td>\n",
       "      <td>...</td>\n",
       "      <td>...</td>\n",
       "    </tr>\n",
       "    <tr>\n",
       "      <th>19463</th>\n",
       "      <td>6RWCvgNCEqXuVZYnDTPDEh</td>\n",
       "      <td>0.431</td>\n",
       "      <td>0.628</td>\n",
       "      <td>-6.259</td>\n",
       "      <td>0.0384</td>\n",
       "      <td>0.4030</td>\n",
       "      <td>0.000008</td>\n",
       "      <td>0.277</td>\n",
       "      <td>118.016</td>\n",
       "      <td>4</td>\n",
       "      <td>24</td>\n",
       "    </tr>\n",
       "    <tr>\n",
       "      <th>19464</th>\n",
       "      <td>4oEf84vBYVftf6KmZexhVo</td>\n",
       "      <td>0.486</td>\n",
       "      <td>0.640</td>\n",
       "      <td>-8.027</td>\n",
       "      <td>0.0551</td>\n",
       "      <td>0.1360</td>\n",
       "      <td>0.000076</td>\n",
       "      <td>0.289</td>\n",
       "      <td>122.017</td>\n",
       "      <td>4</td>\n",
       "      <td>24</td>\n",
       "    </tr>\n",
       "    <tr>\n",
       "      <th>19465</th>\n",
       "      <td>0lbHiQaHPlp5gGtsUPtj6l</td>\n",
       "      <td>0.606</td>\n",
       "      <td>0.757</td>\n",
       "      <td>-6.206</td>\n",
       "      <td>0.0302</td>\n",
       "      <td>0.0157</td>\n",
       "      <td>0.000205</td>\n",
       "      <td>0.588</td>\n",
       "      <td>103.051</td>\n",
       "      <td>4</td>\n",
       "      <td>28</td>\n",
       "    </tr>\n",
       "    <tr>\n",
       "      <th>19466</th>\n",
       "      <td>4kjI1gwQZRKNDkw1nI475M</td>\n",
       "      <td>0.455</td>\n",
       "      <td>0.621</td>\n",
       "      <td>-7.694</td>\n",
       "      <td>0.0517</td>\n",
       "      <td>0.6510</td>\n",
       "      <td>0.000003</td>\n",
       "      <td>0.280</td>\n",
       "      <td>119.043</td>\n",
       "      <td>4</td>\n",
       "      <td>1</td>\n",
       "    </tr>\n",
       "    <tr>\n",
       "      <th>19467</th>\n",
       "      <td>08oo0eCDQZ9XC3zQR8q44y</td>\n",
       "      <td>0.808</td>\n",
       "      <td>0.719</td>\n",
       "      <td>-4.980</td>\n",
       "      <td>0.1050</td>\n",
       "      <td>0.1880</td>\n",
       "      <td>0.000000</td>\n",
       "      <td>0.569</td>\n",
       "      <td>94.998</td>\n",
       "      <td>4</td>\n",
       "      <td>19</td>\n",
       "    </tr>\n",
       "  </tbody>\n",
       "</table>\n",
       "<p>19468 rows × 11 columns</p>\n",
       "</div>"
      ],
      "text/plain": [
       "                           id  danceability  energy  loudness  speechiness  \\\n",
       "0      6yzJiHzsscf0n88xb9aNT4         0.382   0.451    -6.606       0.0293   \n",
       "1      5zdXRoKLZ54VBdbdn7yhz4         0.742   0.375   -13.829       0.0482   \n",
       "2      5qvCKAyjgHnpR5c63OedCY         0.585   0.552   -10.613       0.0353   \n",
       "3      2vByA9JgfMU2bPjUqmxCdv         0.405   0.535    -7.504       0.0531   \n",
       "4      0pPQwIjwqduvLfZORYYEaI         0.586   0.526    -6.928       0.0564   \n",
       "...                       ...           ...     ...       ...          ...   \n",
       "19463  6RWCvgNCEqXuVZYnDTPDEh         0.431   0.628    -6.259       0.0384   \n",
       "19464  4oEf84vBYVftf6KmZexhVo         0.486   0.640    -8.027       0.0551   \n",
       "19465  0lbHiQaHPlp5gGtsUPtj6l         0.606   0.757    -6.206       0.0302   \n",
       "19466  4kjI1gwQZRKNDkw1nI475M         0.455   0.621    -7.694       0.0517   \n",
       "19467  08oo0eCDQZ9XC3zQR8q44y         0.808   0.719    -4.980       0.1050   \n",
       "\n",
       "       acousticness  instrumentalness  valence    tempo  time_signature  \\\n",
       "0            0.5570          0.000034    0.506  150.803               4   \n",
       "1            0.3970          0.901000    0.105  102.023               4   \n",
       "2            0.1940          0.017100    0.496  100.089               4   \n",
       "3            0.0531          0.106000    0.637   97.698               4   \n",
       "4            0.5550          0.000000    0.456  107.153               4   \n",
       "...             ...               ...      ...      ...             ...   \n",
       "19463        0.4030          0.000008    0.277  118.016               4   \n",
       "19464        0.1360          0.000076    0.289  122.017               4   \n",
       "19465        0.0157          0.000205    0.588  103.051               4   \n",
       "19466        0.6510          0.000003    0.280  119.043               4   \n",
       "19467        0.1880          0.000000    0.569   94.998               4   \n",
       "\n",
       "       cluster  \n",
       "0           24  \n",
       "1           17  \n",
       "2           12  \n",
       "3           10  \n",
       "4            1  \n",
       "...        ...  \n",
       "19463       24  \n",
       "19464       24  \n",
       "19465       28  \n",
       "19466        1  \n",
       "19467       19  \n",
       "\n",
       "[19468 rows x 11 columns]"
      ]
     },
     "execution_count": 5,
     "metadata": {},
     "output_type": "execute_result"
    }
   ],
   "source": [
    "audio_features_db_df"
   ]
  },
  {
   "cell_type": "code",
   "execution_count": null,
   "id": "c89ef808-4749-4f6a-9259-1a093cfcc380",
   "metadata": {},
   "outputs": [],
   "source": []
  }
 ],
 "metadata": {
  "kernelspec": {
   "display_name": "Python 3 (ipykernel)",
   "language": "python",
   "name": "python3"
  },
  "language_info": {
   "codemirror_mode": {
    "name": "ipython",
    "version": 3
   },
   "file_extension": ".py",
   "mimetype": "text/x-python",
   "name": "python",
   "nbconvert_exporter": "python",
   "pygments_lexer": "ipython3",
   "version": "3.11.5"
  }
 },
 "nbformat": 4,
 "nbformat_minor": 5
}
