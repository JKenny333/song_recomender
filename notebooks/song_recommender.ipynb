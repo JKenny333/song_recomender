{
 "cells": [
  {
   "cell_type": "markdown",
   "id": "6e990807",
   "metadata": {},
   "source": [
    "<h1 style=\"text-align: center; font_size: 50px; color: green;\">Song recommender </h1>"
   ]
  },
  {
   "cell_type": "code",
   "execution_count": null,
   "id": "ed3992f0",
   "metadata": {},
   "outputs": [],
   "source": [
    "from IPython.display import display, HTML\n",
    "\n",
    "# Your HTML code with centered text\n",
    "html_code = '<div style=\"text-align: center;\">Your centered text goes here.</div>'\n",
    "\n",
    "# Display the centered text in the Jupyter cell\n",
    "display(HTML(html_code))\n"
   ]
  },
  {
   "cell_type": "markdown",
   "id": "bdeae2ae-acc9-4815-aff7-0f552607a0e4",
   "metadata": {},
   "source": [
    "## Goal for today\n",
    "\n",
    "look for differnt playlists/albums etc from varied genres\n",
    "varied genres will improve the clustering machine learning we will do tomorrow"
   ]
  },
  {
   "cell_type": "markdown",
   "id": "13560f22-8c7f-4d55-b14e-29c99b445f37",
   "metadata": {},
   "source": [
    "### Playlists\n",
    "- everything good\n",
    "- 80s\n",
    "- hip hop\n"
   ]
  },
  {
   "cell_type": "markdown",
   "id": "5e6ef525",
   "metadata": {},
   "source": [
    "### Ideas and Improvements\n",
    "#### General\n",
    "- Formatting text\n",
    "    - Check for ways to nicely format text  with bolds, headings etc\n",
    "    - check if buttons can be added\n",
    "    - use html to format and colour text. Eg. colou users chosen song as green\n",
    "- Make function download latest hot 100 so it is always checking latest\n",
    "- when not in hot 100 recommend song from alt 250 [done]\n",
    "- ask would you like to enter another song? [done]\n",
    "- user can choose number of recommendatiosn they would like\n",
    "- Investigate how i could integrate work out data, heart rate, running speed etc\n",
    "- Bonus feature: workout playlist creator: input genre, bpm, some sample songs and reccomender will recommend 10 songs for your workout playlist\n",
    "- add plugins for jupyter lab to colapse code  boxes\n",
    "- if user asks for a second recommendation ensure the same song is not recommendded [priority low]\n",
    "- add artist and album info\n",
    "- see if program can automatically compile playlist\n",
    "  \n",
    "\n",
    "#### Error handling\n",
    "- If user enters an artists name, prompt them with \"that is an artist not a song, we found this song by {artist} would you like to select this song?\n",
    "\n",
    "- for fuzzy matching, ask user \"did you mean...\"\n",
    "    -user selects y/n"
   ]
  },
  {
   "cell_type": "markdown",
   "id": "960c84fa",
   "metadata": {},
   "source": [
    "## To do\n",
    "#### Priority \n",
    "\n",
    "\n",
    "#### Bonus\n",
    "- research what each of the audio features do\n",
    "\n",
    "#### Tidying up\n",
    "- fix \"would you like to continue\" after providing hot 100 recommendation\n",
    "- fix \"did you mean\" to allow user response (y/n), if no, prompt user for new input\n",
    "- ensure song reccomender does not reccomender the same song chosen by the user\n",
    "- did you mean? - no - search for reccomendation in database\n",
    "- did you mean? adjust threshold. currently its finding matches too easily\n"
   ]
  },
  {
   "cell_type": "code",
   "execution_count": 1,
   "id": "9369ed86-2fc7-4b0d-b7c3-58c14835ca1b",
   "metadata": {},
   "outputs": [],
   "source": [
    "from bs4 import BeautifulSoup\n",
    "import requests\n",
    "import pandas as pd\n",
    "import random\n",
    "from fuzzywuzzy import process\n",
    "from IPython.display import display, HTML\n",
    "import config\n",
    "import spotipy\n",
    "import json\n",
    "from spotipy.oauth2 import SpotifyClientCredentials\n",
    "from IPython.display import IFrame\n",
    "import pickle"
   ]
  },
  {
   "cell_type": "code",
   "execution_count": 28,
   "id": "49c0503d",
   "metadata": {},
   "outputs": [],
   "source": [
    "def load(filename = \"filename.pickle\"): \n",
    "    try: \n",
    "        with open(filename, \"rb\") as f: \n",
    "            return pickle.load(f) \n",
    "        \n",
    "    except FileNotFoundError: \n",
    "        print(\"File not found!\")\n",
    "\n",
    "def play_song(track_id):\n",
    "    iframe = IFrame(src=\"https://open.spotify.com/embed/track/\"+track_id,\n",
    "       width=\"320\",\n",
    "       height=\"80\",\n",
    "       frameborder=\"0\",\n",
    "       allowtransparency=\"true\",\n",
    "       allow=\"encrypted-media\",\n",
    "      )\n",
    "    display(iframe)\n",
    "    \n",
    "def find_track_id(song_name):\n",
    "    results = sp.search(q=song_name,limit=1,market=\"GB\")\n",
    "    track_id = results[\"tracks\"][\"items\"][0][\"id\"]\n",
    "    return track_id\n",
    "\n",
    "def recommend_similar_song(original_song_track_id, scaler, kmeans_model):\n",
    "    af_df = pd.DataFrame(sp.audio_features(original_song_track_id))\n",
    "    X = af_df.select_dtypes(include=['number'])\n",
    "    X_scaled = scaler.transform(X)\n",
    "    X_scaled_df = pd.DataFrame(X_scaled, columns = X.columns)\n",
    "    clusters_array = kmeans_model.predict(X_scaled_df)\n",
    "    cluster_int = clusters_array[0]\n",
    "    recommended_song_af = audio_features_db_df[audio_features_db_df['cluster'] == cluster_int].sample()\n",
    "    recommended_song_track_id = recommended_song_af[\"id\"].item()\n",
    "    return recommended_song_track_id\n",
    "\n",
    "def recommend_hot_song(user_input, hot_100_df):\n",
    "    # Convert all hot 100 song titles to lowercase for case-insensitive comparison\n",
    "    songs_lower = hot_100_df['song'].str.lower()\n",
    "    # Filter out the user's song and select a random recommendation from hot 100\n",
    "    hot_recommendations = hot_100_df[~songs_lower.str.contains(user_input.lower())]\n",
    "    if not hot_recommendations.empty:\n",
    "        recommended_hot_song = random.choice(hot_recommendations['song'].values)\n",
    "        print(f\"\\nHere's another song from the Hot 100: '{recommended_hot_song}'\\nGive it a listen!\")\n",
    "        rec_hot_song_track_id = find_track_id(recommended_hot_song)\n",
    "    return rec_hot_song_track_id\n",
    "    \n",
    "\n",
    "def would_you_like_to_select_another_song():\n",
    "    while True:  # Loop until a valid response is received\n",
    "        cont = input(\"\\nWould you like to select another song? (yes/no):\\n  Response: \").strip().lower()\n",
    "        if cont in [\"no\", \"n\"]:\n",
    "            print(\"\\nThank you for using Gnod's Song Recommender. Goodbye!\")\n",
    "            return False  # User does not want to continue\n",
    "        elif cont in [\"yes\", \"y\"]:\n",
    "            return True  # User wants to continue\n",
    "        else:\n",
    "            print(\"Invalid response. Please answer with 'yes' or 'no'.\")  # Ask again for a valid response\n",
    "\n",
    "def song_recommender(hot_100_df, audio_features_db_df, scaler, kmeans_model):\n",
    "    print(\"\\n                                     Welcome to Gnod's Song Recommender!\\nThe Recommender allows you to search for a song you like. It will then inform you if the song is in the Billboard Hot 100 or not and also provide you with a recommendation for another song\\nNote: The song search is case insensitive.\\n\")\n",
    "    # Convert all hot 100 song titles to lowercase for case-insensitive comparison\n",
    "    songs_lower = hot_100_df['song'].str.lower()\n",
    "    \n",
    "    while True:\n",
    "        # Get user input\n",
    "        user_input = input(\"Please enter the name of a song.\\n  Song: \").strip().title()\n",
    "        # Find_track_id\n",
    "        track_id = find_track_id(user_input)\n",
    "        play_song(track_id)\n",
    "        \n",
    "        if not user_input:\n",
    "            print(\"\\nYou didn't enter a song. Please try again.\\n  Song: \")\n",
    "            continue\n",
    "        \n",
    "        try:       \n",
    "            if user_input.lower() in songs_lower.values:\n",
    "                print(f\"\\n'{user_input.title()}' is currently in the Billboard Hot 100.\")                \n",
    "                rec_hot_song_track_id = recommend_hot_song(user_input, hot_100_df)\n",
    "                play_song(rec_hot_song_track_id)\n",
    "                would_you_like_to_select_another_song()\n",
    "                break  # Exit loop after providing a recommendation\n",
    "            \n",
    "            else:\n",
    "                \n",
    "                # Use fuzzy matching to find the closest match to user_input in the 'song' column\n",
    "                result = process.extractOne(user_input, songs_lower, score_cutoff= 85)\n",
    "                # score_cutoff is the minimum score threshold for considering a match\n",
    "        \n",
    "                if result: # A match was found with a score above the cutoff\n",
    "                    closest_match, match_score, i = result\n",
    "                    input_dym = input(f\"\\nDid you mean '{closest_match.title()}'? (yes/no)\\n\").strip().lower()\n",
    "                    if input_dym == \"yes\":\n",
    "                        print(f\"\\n'{closest_match.title()}' is currently in the Billboard Hot 100.\")                \n",
    "                        rec_hot_song_track_id = recommend_hot_song(closest_match, hot_100_df)\n",
    "                        play_song(rec_hot_song_track_id)\n",
    "                        would_you_like_to_select_another_song()\n",
    "                        break\n",
    "                else:\n",
    "                    print(f\"\\n'Here's a song I think you'll like.\\n\")\n",
    "                    original_song_track_id = find_track_id(user_input)\n",
    "                    recommended_song_track_id = recommend_similar_song(original_song_track_id, scaler, kmeans_model)\n",
    "                    play_song(recommended_song_track_id)\n",
    "                    \n",
    "        except KeyError:\n",
    "            print(\"\\nError: The DataFrame does not have a 'song' column.\")\n",
    "            break\n",
    "        \n",
    "        cont = input(\"\\nWould you like to select another song?\\n  Response: \").lower()\n",
    "        if cont == \"no\":\n",
    "            print(\"\\nThank you for using Gnod's Song Recommender\\nGoodbye\")\n",
    "            break\n",
    "\n"
   ]
  },
  {
   "cell_type": "code",
   "execution_count": 29,
   "id": "0b5ec0d7-a710-4187-9ac1-30f560f092c5",
   "metadata": {},
   "outputs": [],
   "source": [
    "#load datasets\n",
    "hot_100_df = pd.read_csv('../data/hot_100.csv',index_col = 0)\n",
    "alt_250 = pd.read_csv('../data/alt_250.csv',index_col = 0)\n",
    "audio_features_db_df = pd.read_csv(\"../data/audio_features_db_df.csv\",index_col = 0)\n",
    "\n",
    "#Initialize SpotiPy with user credentials\n",
    "sp = spotipy.Spotify(auth_manager=SpotifyClientCredentials(client_id= config.client_id,\n",
    "                                                           client_secret= config.client_secret))\n",
    "#Load scalers and models\n",
    "scaler= load(filename=\"model/scaler.pickle\")\n",
    "kmeans_model = load(filename=\"model/kmeans_4.pickle\")"
   ]
  },
  {
   "cell_type": "code",
   "execution_count": null,
   "id": "449a3f09",
   "metadata": {},
   "outputs": [
    {
     "name": "stdout",
     "output_type": "stream",
     "text": [
      "\n",
      "                                     Welcome to Gnod's Song Recommender!\n",
      "The Recommender allows you to search for a song you like. It will then inform you if the song is in the Billboard Hot 100 or not and also provide you with a recommendation for another song\n",
      "Note: The song search is case insensitive.\n",
      "\n"
     ]
    },
    {
     "name": "stdin",
     "output_type": "stream",
     "text": [
      "Please enter the name of a song.\n",
      "  Song:  flawers\n"
     ]
    },
    {
     "data": {
      "text/html": [
       "\n",
       "        <iframe\n",
       "            width=\"320\"\n",
       "            height=\"80\"\n",
       "            src=\"https://open.spotify.com/embed/track/7DSAEUvxU8FajXtRloy8M0?frameborder=0&allowtransparency=true&allow=encrypted-media\"\n",
       "            frameborder=\"0\"\n",
       "            allowfullscreen\n",
       "            \n",
       "        ></iframe>\n",
       "        "
      ],
      "text/plain": [
       "<IPython.lib.display.IFrame at 0x12452f850>"
      ]
     },
     "metadata": {},
     "output_type": "display_data"
    },
    {
     "name": "stdin",
     "output_type": "stream",
     "text": [
      "\n",
      "Did you mean 'Flowers'? (yes/no)\n",
      " yes\n"
     ]
    },
    {
     "name": "stdout",
     "output_type": "stream",
     "text": [
      "\n",
      "'Flowers' is currently in the Billboard Hot 100.\n",
      "\n",
      "Here's another song from the Hot 100: 'One Call'\n",
      "Give it a listen!\n"
     ]
    },
    {
     "data": {
      "text/html": [
       "\n",
       "        <iframe\n",
       "            width=\"320\"\n",
       "            height=\"80\"\n",
       "            src=\"https://open.spotify.com/embed/track/6et5HwX6nTYddg7hDGAxug?frameborder=0&allowtransparency=true&allow=encrypted-media\"\n",
       "            frameborder=\"0\"\n",
       "            allowfullscreen\n",
       "            \n",
       "        ></iframe>\n",
       "        "
      ],
      "text/plain": [
       "<IPython.lib.display.IFrame at 0x16bade650>"
      ]
     },
     "metadata": {},
     "output_type": "display_data"
    }
   ],
   "source": [
    "song_recommender(hot_100_df, audio_features_db_df, scaler, kmeans_model)"
   ]
  },
  {
   "cell_type": "code",
   "execution_count": null,
   "id": "4cde03ac-1537-4706-a983-06e2e3441ab3",
   "metadata": {},
   "outputs": [],
   "source": [
    "recommended_song_af = audio_features_db_df[audio_features_db_df['cluster'] == 2].sample()\n",
    "recommended_song_track_id = recommended_song_af[\"id\"]\n",
    "play_song(recommended_song_track_id)"
   ]
  },
  {
   "cell_type": "code",
   "execution_count": null,
   "id": "0dea592a-55f5-4c7a-85ae-0dfd8d64238f",
   "metadata": {},
   "outputs": [],
   "source": [
    "audio_features_db_df"
   ]
  },
  {
   "cell_type": "code",
   "execution_count": null,
   "id": "e2d368c3-9dc1-497a-99b9-ad91cd2fc0a2",
   "metadata": {},
   "outputs": [],
   "source": [
    "recommended_song_af = audio_features_db_df[audio_features_db_df['cluster'] == 1].sample()\n"
   ]
  },
  {
   "cell_type": "code",
   "execution_count": null,
   "id": "e59e0b2e-07de-4d5a-a27f-8b52ed544535",
   "metadata": {},
   "outputs": [],
   "source": [
    "recommended_song_track_id = recommended_song_af[\"id\"]"
   ]
  },
  {
   "cell_type": "code",
   "execution_count": null,
   "id": "7848f9cf-37a2-41c2-a91f-7d1e566891d4",
   "metadata": {},
   "outputs": [],
   "source": [
    "recommended_song_track_id = find_track_id(recommended_song_af)\n",
    "recommended_song_track_id"
   ]
  },
  {
   "cell_type": "code",
   "execution_count": null,
   "id": "2d653bbf-5221-4a1b-8bdc-68d406deb493",
   "metadata": {},
   "outputs": [],
   "source": [
    "play_song(recommended_song_track_id)"
   ]
  }
 ],
 "metadata": {
  "kernelspec": {
   "display_name": "Python 3 (ipykernel)",
   "language": "python",
   "name": "python3"
  },
  "language_info": {
   "codemirror_mode": {
    "name": "ipython",
    "version": 3
   },
   "file_extension": ".py",
   "mimetype": "text/x-python",
   "name": "python",
   "nbconvert_exporter": "python",
   "pygments_lexer": "ipython3",
   "version": "3.11.5"
  }
 },
 "nbformat": 4,
 "nbformat_minor": 5
}
