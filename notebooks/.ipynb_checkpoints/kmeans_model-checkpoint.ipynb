{
 "cells": [
  {
   "cell_type": "markdown",
   "id": "2c91df6f-d03d-444b-a7f5-a74d01c4a102",
   "metadata": {},
   "source": [
    "# Song Recomender Model"
   ]
  },
  {
   "cell_type": "markdown",
   "id": "66e2704f-eee4-4865-b415-282f59c5c5bd",
   "metadata": {},
   "source": [
    "### Notes:\n",
    "1. numerical variables. (can do research and find which features are relevant for model)\n",
    "2. scale\n",
    "3. train k means (+pickle)\n",
    "\n",
    "- create model\n",
    "\n",
    "user input\n",
    "- search for track id\n",
    "- get audio features\n",
    "- scale\n",
    "- predict cluster\n",
    "- recommend random song cluster\n",
    "\n",
    "X\n",
    "X-noid = X.drop(\"ID\")\n",
    "\n",
    "kmeans.labels\n",
    "x[\"cluster\"] = kmeans.labels\n",
    "\n",
    "\n",
    "\n",
    "Tip. Go through whole process first and get quick and dirty model.\n",
    "\n",
    "\n",
    "\n",
    "to train model only use numerical values\n",
    "can potentially drop some numerical features to improve model(recommended) (research)\n"
   ]
  },
  {
   "cell_type": "markdown",
   "id": "1760f0ed-fdfd-46fc-a1e0-3197595c5d0b",
   "metadata": {},
   "source": [
    "### Which feature to use\n",
    "For a K-means model that recommends songs based on user input, focusing on Spotify audio features that capture the essence of a song's mood, energy, and danceability can be particularly effective. Consider these features:\n",
    "\n",
    "Danceability: Reflects the suitability of a song for dancing, based on tempo, rhythm stability, beat strength, and overall regularity.\n",
    "Energy: Measures intensity and activity, capturing the dynamic feel of a song.\n",
    "Valence: Indicates the musical positiveness conveyed by a track, which can help in understanding the emotional context.\n",
    "Tempo: The speed or pace of a song, which is fundamental in matching songs with a similar vibe.\n",
    "Acousticness: Helps in distinguishing between acoustic and more electronic/synthetic music.\n",
    "Instrumentalness: Useful for identifying songs with a focus on instrumentation, which might be preferred by users interested in instrumental tracks.\n",
    "Liveness: Could be considered if the presence of live audience sounds or a \"live\" feel is important for similarity.\n",
    "Speechiness: Can be useful to filter out tracks with more spoken words, distinguishing between music tracks and those with significant vocal content like podcasts or audiobooks.\n",
    "These features collectively can capture the essence of what a user might enjoy in a song, beyond just genre or artist. By clustering songs using these features, your K-means model can identify and recommend songs that share similar characteristics with the user's input song, potentially leading to more personalized and satisfying recommendations.\n",
    "\n",
    "Remember, the choice of features might require iteration; you might start with these and adjust based on the performance of your recommendation system and user feedback."
   ]
  },
  {
   "cell_type": "markdown",
   "id": "51203a09-b7f1-4c96-b3fc-f82a10720377",
   "metadata": {},
   "source": [
    "## To do\n",
    "- increase number of clusters. approx 20'000 song so should have a lot of klusters"
   ]
  },
  {
   "cell_type": "markdown",
   "id": "755e9a48-1e5c-4a34-a4a4-d57d31ab3531",
   "metadata": {},
   "source": [
    "## Importing libraries"
   ]
  },
  {
   "cell_type": "code",
   "execution_count": null,
   "id": "4aa5bbc9-6e71-4a1c-895f-ebd0c6a3e1ef",
   "metadata": {},
   "outputs": [],
   "source": [
    "import numpy as np\n",
    "import pandas as pd\n",
    "import pickle\n",
    "from sklearn import datasets # sklearn comes with some toy datasets to practice\n",
    "from sklearn.preprocessing import StandardScaler\n",
    "from sklearn.cluster import KMeans\n",
    "import matplotlib.pyplot as plt\n",
    "from sklearn.metrics import silhouette_score"
   ]
  },
  {
   "cell_type": "markdown",
   "id": "cfdfefbf-7920-4e87-bff1-32d704ecb781",
   "metadata": {},
   "source": [
    "## Dataset preparation"
   ]
  },
  {
   "cell_type": "code",
   "execution_count": null,
   "id": "cfdd64f7-5842-461f-bc7a-4d664d206367",
   "metadata": {},
   "outputs": [],
   "source": [
    "song_database_df = pd.read_csv('../data/full_af.csv',index_col=0)\n",
    "song_database_df = song_database_df.drop(columns = [\"mode\", \"key\", \"duration_ms\", \"liveness\"])"
   ]
  },
  {
   "cell_type": "code",
   "execution_count": null,
   "id": "95962551-c7f7-4511-833d-968d185dca13",
   "metadata": {},
   "outputs": [],
   "source": [
    "#getting only numeric features for model\n",
    "song_database_numeric_noid_df = song_database_df.select_dtypes(include=['number'])"
   ]
  },
  {
   "cell_type": "code",
   "execution_count": null,
   "id": "640f840f-8a74-45c5-95a8-09352a22ea8b",
   "metadata": {},
   "outputs": [],
   "source": [
    "#getting df with numeric features plus id\n",
    "song_database_numeric_id_df = pd.concat([song_database_df[\"id\"],song_database_numeric_noid_df], axis = 1)"
   ]
  },
  {
   "cell_type": "markdown",
   "id": "57fe1207-0013-409d-a63a-bb8fcf76f6c6",
   "metadata": {},
   "source": [
    "## Scaling features"
   ]
  },
  {
   "cell_type": "code",
   "execution_count": null,
   "id": "634d9db4-7f7b-44c6-b916-61563b7283be",
   "metadata": {},
   "outputs": [],
   "source": [
    "X = song_database_numeric_noid_df\n",
    "X"
   ]
  },
  {
   "cell_type": "code",
   "execution_count": null,
   "id": "f33a1c60-3cc0-41e8-8170-e54eba62bb51",
   "metadata": {},
   "outputs": [],
   "source": [
    "scaler = StandardScaler()\n",
    "scaler.fit(X)\n",
    "X_scaled = scaler.transform(X)\n",
    "X_scaled_df = pd.DataFrame(X_scaled, columns = X.columns)"
   ]
  },
  {
   "cell_type": "markdown",
   "id": "800388c3-5ef7-43d9-9049-ebd6ecc50c8b",
   "metadata": {},
   "source": [
    "## Clustering with K-Means"
   ]
  },
  {
   "cell_type": "markdown",
   "id": "3df36e55-353a-446c-9eba-c711ed376219",
   "metadata": {},
   "source": [
    "## Feature selection"
   ]
  },
  {
   "cell_type": "code",
   "execution_count": null,
   "id": "f3a9dfcd-8cce-463d-8fd3-63aebcfb5661",
   "metadata": {},
   "outputs": [],
   "source": [
    "X_scaled_df\n"
   ]
  },
  {
   "cell_type": "code",
   "execution_count": null,
   "id": "570846be-c5c1-4215-b360-bafd027abff8",
   "metadata": {},
   "outputs": [],
   "source": [
    "from sklearn.decomposition import PCA\n",
    "from sklearn.cluster import KMeans\n",
    "from sklearn.preprocessing import StandardScaler\n",
    "from sklearn.pipeline import Pipeline\n",
    "\n",
    "# Apply PCA\n",
    "pca = PCA(n_components=6)\n",
    "X_pca = pca.transform(X_scaled)\n",
    "pd.DataFrame(X_pca)\n",
    "\n"
   ]
  },
  {
   "cell_type": "code",
   "execution_count": null,
   "id": "059a6285-f413-4b12-971e-0c2b768e2d02",
   "metadata": {},
   "outputs": [],
   "source": [
    "# The explained variance ratio for each principal component\n",
    "explained_variance_ratio = pca.explained_variance_ratio_\n",
    "\n",
    "# Print explained variance ratio\n",
    "for i, ratio in enumerate(explained_variance_ratio):\n",
    "    print(f\"Principal Component {i+1}: {ratio:.2f}\")"
   ]
  },
  {
   "cell_type": "code",
   "execution_count": null,
   "id": "95da7004-0065-497f-9fd4-03d99864894a",
   "metadata": {},
   "outputs": [],
   "source": [
    "cumulative_explained_variance = explained_variance_ratio.cumsum()\n",
    "\n",
    "# Print cumulative explained variance\n",
    "for i, cum_ratio in enumerate(cumulative_explained_variance):\n",
    "    print(f\"Total variance explained by the first {i+1} components: {cum_ratio:.2f}\")"
   ]
  },
  {
   "cell_type": "markdown",
   "id": "d663f43c-0c09-491f-b5f5-2d603a7acddc",
   "metadata": {},
   "source": [
    "## Investigating optimum number of clusters"
   ]
  },
  {
   "cell_type": "code",
   "execution_count": null,
   "id": "878c2e7d-a349-4c20-89dd-9ab740719f20",
   "metadata": {},
   "outputs": [],
   "source": [
    "K = range(2, 50)\n",
    "inertia = []\n",
    "\n",
    "for k in K:\n",
    "    print(\"Training a K-Means model with {} clusters! \".format(k))\n",
    "    print()\n",
    "    kmeans = KMeans(n_clusters = k,\n",
    "                init=\"k-means++\",\n",
    "                n_init = \"auto\",\n",
    "                max_iter= 50,\n",
    "                algorithm=\"elkan\",\n",
    "                random_state=1234)\n",
    "    kmeans.fit(X_pca)\n",
    "    inertia.append(kmeans.inertia_)\n",
    "\n",
    "import numpy as np\n",
    "import matplotlib.pyplot as plt\n",
    "%matplotlib inline\n",
    "\n",
    "plt.figure(figsize=(16,8))\n",
    "plt.plot(K, inertia, 'bx-')\n",
    "plt.xlabel('k')\n",
    "plt.ylabel('inertia')\n",
    "plt.xticks(np.arange(min(K), max(K)+1, 1.0))\n",
    "plt.title('Elbow Method showing the optimal k')"
   ]
  },
  {
   "cell_type": "markdown",
   "id": "3ee0c609-094a-45b8-873c-f296b452722a",
   "metadata": {},
   "source": [
    "#### Silhouette"
   ]
  },
  {
   "cell_type": "code",
   "execution_count": null,
   "id": "6429b87e-3758-4c5b-800b-7adb43568a68",
   "metadata": {},
   "outputs": [],
   "source": [
    "K = range(7,50)\n",
    "silhouette = []\n",
    "\n",
    "for k in K:\n",
    "    print(\"Training a K-Means model with {} clusters! \".format(k))\n",
    "    print()\n",
    "    kmeans = KMeans(n_clusters=k,\n",
    "                    init=\"k-means++\",\n",
    "                    n_init = \"auto\",\n",
    "                    max_iter= 50,\n",
    "                    algorithm=\"elkan\",\n",
    "                    random_state=1234)\n",
    "    \n",
    "    kmeans.fit(X_pca)\n",
    "    \n",
    "    silhouette.append(silhouette_score(X_pca, kmeans.predict(X_pca)))\n",
    "\n",
    "\n",
    "plt.figure(figsize=(16,8))\n",
    "plt.plot(K, silhouette, 'bx-')\n",
    "plt.xlabel('k')\n",
    "plt.ylabel('silhouette score')\n",
    "plt.xticks(np.arange(min(K), max(K)+1, 1.0))\n",
    "plt.title('Silhouette Method showing the optimal k')"
   ]
  },
  {
   "cell_type": "code",
   "execution_count": null,
   "id": "dd542259-fd03-47d3-b44f-561b2b121abb",
   "metadata": {},
   "outputs": [],
   "source": [
    "from yellowbrick.cluster import SilhouetteVisualizer\n",
    "import matplotlib.pyplot as plt\n",
    "\n",
    "# Assuming X_scaled_df is your scaled data prepared for KMeans\n",
    "model = KMeans(n_clusters=,\n",
    "               init=\"k-means++\",\n",
    "               n_init = 5,\n",
    "               max_iter= 50,\n",
    "               algorithm=\"elkan\",\n",
    "               random_state=1234)\n",
    "\n",
    "# Specify the size of the figure\n",
    "visualizer = SilhouetteVisualizer(model, colors='yellowbrick', size=(1080, 1100))\n",
    "visualizer.fit(X_scaled_df)        # Fit the data to the visualizer\n",
    "visualizer.show()        # Finalize and render the figure"
   ]
  },
  {
   "cell_type": "markdown",
   "id": "fbd6edb8-a53a-4a70-a1c8-a2058ae7e83b",
   "metadata": {},
   "source": [
    "## Kmeans model"
   ]
  },
  {
   "cell_type": "code",
   "execution_count": null,
   "id": "6adbb706-b101-4cf0-b85f-6af2a50ccd0a",
   "metadata": {},
   "outputs": [],
   "source": [
    "kmeans = KMeans(n_clusters=41,\n",
    "               init=\"k-means++\",\n",
    "               n_init = \"auto\",\n",
    "               max_iter= 100,\n",
    "               algorithm=\"elkan\",\n",
    "               random_state=1234)\n",
    "kmeans.fit(X_pca)\n",
    "print(kmeans.inertia_)"
   ]
  },
  {
   "cell_type": "code",
   "execution_count": null,
   "id": "9f040c70-8ae9-4df4-9342-1933cd65fdea",
   "metadata": {},
   "outputs": [],
   "source": [
    "silhouette_score(X_pca, kmeans.predict(X_pca))"
   ]
  },
  {
   "cell_type": "markdown",
   "id": "b19861e8-d138-40ab-af36-9b5e6a0ec93f",
   "metadata": {},
   "source": [
    "### Cluster info"
   ]
  },
  {
   "cell_type": "code",
   "execution_count": null,
   "id": "344132af-720a-4dc2-873e-47e236629a27",
   "metadata": {},
   "outputs": [],
   "source": [
    "labels = kmeans.labels_\n",
    "labels"
   ]
  },
  {
   "cell_type": "code",
   "execution_count": null,
   "id": "4c363706-a893-4785-aee7-7e4ade98a3c7",
   "metadata": {
    "scrolled": true
   },
   "outputs": [],
   "source": [
    "np.unique(labels)"
   ]
  },
  {
   "cell_type": "code",
   "execution_count": null,
   "id": "be602d70-c6ec-4b99-8361-23398e97b5e7",
   "metadata": {
    "scrolled": true
   },
   "outputs": [],
   "source": [
    "clusters = kmeans.predict(X_pca)\n",
    "pd.Series(clusters).value_counts().sort_index()"
   ]
  },
  {
   "cell_type": "markdown",
   "id": "b9d4f3fc-8dfa-442e-aeb1-5adba95de993",
   "metadata": {},
   "source": [
    "## Adding clusters to dataset"
   ]
  },
  {
   "cell_type": "code",
   "execution_count": null,
   "id": "568b2fbd-de5e-4318-8382-17fe62965215",
   "metadata": {},
   "outputs": [],
   "source": [
    "#X_df = pd.DataFrame(X)\n",
    "X[\"cluster\"] = clusters\n",
    "song_database_numeric_id_df[\"cluster\"] = clusters\n",
    "song_database_numeric_id_df"
   ]
  },
  {
   "cell_type": "markdown",
   "id": "dacdf84b-bd66-47f2-98b7-f0c64190abec",
   "metadata": {},
   "source": [
    "### Testing clusters by ear"
   ]
  },
  {
   "cell_type": "code",
   "execution_count": null,
   "id": "e953e929-7ee2-4ae8-88d6-5447dd77b8d9",
   "metadata": {},
   "outputs": [],
   "source": [
    "from IPython.display import IFrame\n",
    "\n",
    "def play_song(track_id):\n",
    "    iframe = IFrame(src=\"https://open.spotify.com/embed/track/\"+track_id,\n",
    "       width=\"320\",\n",
    "       height=\"80\",\n",
    "       frameborder=\"0\",\n",
    "       allowtransparency=\"true\",\n",
    "       allow=\"encrypted-media\",\n",
    "      )\n",
    "    display(iframe)"
   ]
  },
  {
   "cell_type": "code",
   "execution_count": null,
   "id": "e90da0a1-be12-4e2c-a912-43f7509e00d5",
   "metadata": {},
   "outputs": [],
   "source": [
    "#find songs in same cluster\n",
    "track = song_database_numeric_id_df[song_database_numeric_id_df[\"cluster\"] == 7].sample()\n",
    "track_id = track[\"id\"].item()\n",
    "play_song(track_id)"
   ]
  },
  {
   "cell_type": "markdown",
   "id": "54c8f2a8-b8bf-497a-a040-f8ea6e6c872e",
   "metadata": {},
   "source": [
    "## Exporting models,scalers and dataframes"
   ]
  },
  {
   "cell_type": "markdown",
   "id": "7ca8cce7-9484-448b-b510-465f35a76984",
   "metadata": {},
   "source": [
    "### Model and scaler"
   ]
  },
  {
   "cell_type": "code",
   "execution_count": null,
   "id": "b364fcca-6995-46b9-abf7-e704719cdcfe",
   "metadata": {},
   "outputs": [],
   "source": [
    "import pickle\n",
    "\n",
    "def save(model, filename = \"filename.pickle\"):\n",
    "    with open(filename, \"wb\") as f:\n",
    "        pickle.dump(model, f)"
   ]
  },
  {
   "cell_type": "code",
   "execution_count": null,
   "id": "038d0f09-6847-4eb7-aac2-3ef465a46cb4",
   "metadata": {},
   "outputs": [],
   "source": [
    "with open(\"model/scaler.pickle\", \"wb\") as f:\n",
    "    pickle.dump(scaler,f)\n",
    "\n",
    "with open(\"model/kmeans_4.pickle\", \"wb\") as f:\n",
    "    pickle.dump(kmeans,f)"
   ]
  },
  {
   "cell_type": "markdown",
   "id": "e0229cc3-2131-41ae-8ed8-2b2fb6b9e5e2",
   "metadata": {},
   "source": [
    "### Dataset\n"
   ]
  },
  {
   "cell_type": "code",
   "execution_count": null,
   "id": "e3209d51-1d32-4485-bd37-a2c0b848bbc6",
   "metadata": {},
   "outputs": [],
   "source": [
    "song_database_numeric_id_df.to_csv(\"../data/audio_features_db_df.csv\")"
   ]
  }
 ],
 "metadata": {
  "kernelspec": {
   "display_name": "Python 3 (ipykernel)",
   "language": "python",
   "name": "python3"
  },
  "language_info": {
   "codemirror_mode": {
    "name": "ipython",
    "version": 3
   },
   "file_extension": ".py",
   "mimetype": "text/x-python",
   "name": "python",
   "nbconvert_exporter": "python",
   "pygments_lexer": "ipython3",
   "version": "3.11.5"
  }
 },
 "nbformat": 4,
 "nbformat_minor": 5
}
