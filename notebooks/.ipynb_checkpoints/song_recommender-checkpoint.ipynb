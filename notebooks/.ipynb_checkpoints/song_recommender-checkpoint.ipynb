{
 "cells": [
  {
   "cell_type": "markdown",
   "id": "47943c61",
   "metadata": {},
   "source": [
    "### Outline\n",
    "ask user to input song\n",
    "\n",
    "check if input is in billboard 100 df\n",
    "\n",
    "if in billboard 100:\n",
    "    recommend another song\n",
    "    \n",
    "else\n",
    "    sorry, try again\n",
    "    \n",
    "\n",
    "\n",
    "program should:\n",
    "- flow control\n",
    "- be case insensitive,\n",
    "- handle typos, if typo, ask \"is this what you meant\"\n",
    "- think about user experience"
   ]
  },
  {
   "cell_type": "markdown",
   "id": "d7f54a26",
   "metadata": {},
   "source": [
    "### Ideas and Improvements\n",
    "#### General\n",
    "- Formatting text\n",
    "    - Check for ways to nicely format text  with bolds, headings etc\n",
    "- Make function download latest hot 100 so it is always checking latest\n",
    "- when not in hot 100 recommend song from alt 250\n",
    "- ask would you like to enter another song?\n",
    "\n",
    "#### Error handling\n",
    "- If user enters an artists name, prompt them with \"that is an artist not a song, we found this song by {artist} would you like to select this song?\n",
    "\n",
    "- for fuzzy matching, ask user \"did you mean...\"\n",
    "    -user selects y/n"
   ]
  },
  {
   "cell_type": "markdown",
   "id": "57380010",
   "metadata": {},
   "source": [
    "#### Pseudo code\n",
    "\n",
    "print welcome message\n",
    "\n",
    "ask for input\n",
    "\n",
    "if input is empty\n",
    "    print(\"You didn't enter a song. Please try again.\""
   ]
  },
  {
   "cell_type": "code",
   "execution_count": 1,
   "id": "527acf8a",
   "metadata": {},
   "outputs": [],
   "source": [
    "#Original\n",
    "from bs4 import BeautifulSoup\n",
    "import requests\n",
    "import pandas as pd\n",
    "import random\n",
    "from fuzzywuzzy import process\n",
    "\n",
    "hot_100_df = pd.read_csv('../data/hot_100.csv',index_col = 0)\n",
    "alt_250 = pd.read_csv('../data/alt_250.csv',index_col = 0)\n",
    "            \n",
    "\n",
    "def song_recommender(hot_100_df, additional_songs_df):\n",
    "    print(\"                                    Welcome to Gnod's Song Recommender!\\nThe Recommender allows you to search for a song you like. It will then inform you if the song is in the Billboard Hot 100 or not and also provide you with a recomendation for another song\\nNote: The song search is case insensitive.\\n\")\n",
    "    while True:\n",
    "        user_input = input(\"Please enter the name of a song: \").strip()\n",
    "        if not user_input:\n",
    "            print(\"You didn't enter a song. Please try again.\")\n",
    "            continue\n",
    "        \n",
    "        try:\n",
    "            # Convert all song titles to lowercase for case-insensitive comparison\n",
    "            songs_lower = hot_100_df['song'].str.lower()\n",
    "            \n",
    "            if user_input.lower() in songs_lower.values:\n",
    "                print(f\"'{user_input}' is in the Billboard Hot 100.\")\n",
    "                \n",
    "                # Filter out the user's song and select a random recommendation\n",
    "                hot_recommendations = hot_100_df[~songs_lower.str.contains(user_input.lower())]\n",
    "                if not hot_recommendations.empty:\n",
    "                    recommended_hot_song = random.choice(hot_recommendations['song'].values)\n",
    "                    print(f\"Here's another song you might like: '{recommended_song}'\")\n",
    "                \n",
    "                break  # Exit loop after providing a recommendation\n",
    "            \n",
    "            else:\n",
    "                \n",
    "                # Use fuzzy matching to find the closest match to user_input in the 'song' column\n",
    "                result = process.extractOne(user_input, songs_lower, score_cutoff=80)\n",
    "                # score_cutoff is the minimum score threshold for considering a match\n",
    "        \n",
    "                if result: # A match was found with a score above the cutoff\n",
    "                    closest_match, match_score, i = result\n",
    "                    print(f\"Did you mean '{closest_match}'? It is in the Billboard Hot 100.\")\n",
    "                    break\n",
    "                else:\n",
    "                    print(f\"'{user_input}' is not in the Billboard Hot 100\")\n",
    "                    recommended_other_song = random.choice(additional_songs_df['song'].values)\n",
    "                    print(f\"\\nHere's another song you might like: '{recommended_other_song}'\")\n",
    "                    \n",
    "        except KeyError:\n",
    "            print(\"Error: The DataFrame does not have a 'song' column.\")\n",
    "            break\n",
    "    break\n",
    "\n"
   ]
  },
  {
   "cell_type": "code",
   "execution_count": null,
   "id": "b003196f",
   "metadata": {},
   "outputs": [
    {
     "name": "stdout",
     "output_type": "stream",
     "text": [
      "                                    Welcome to Gnod's Song Recommender!\n",
      "The Recommender allows you to search for a song you like. It will then inform you if the song is in the Billboard Hot 100 or not and also provide you with a recomendation for another song\n",
      "Note: The song search is case insensitive.\n",
      "\n",
      "Please enter the name of a song: test\n",
      "'test' is not in the Billboard Hot 100\n",
      "\n",
      "Here's another song you might like: 'Don't Speak'\n"
     ]
    }
   ],
   "source": [
    "song_recommender(hot_100_df,alt_250)"
   ]
  },
  {
   "cell_type": "code",
   "execution_count": null,
   "id": "6fe988c1",
   "metadata": {},
   "outputs": [],
   "source": []
  }
 ],
 "metadata": {
  "kernelspec": {
   "display_name": "Python 3 (ipykernel)",
   "language": "python",
   "name": "python3"
  },
  "language_info": {
   "codemirror_mode": {
    "name": "ipython",
    "version": 3
   },
   "file_extension": ".py",
   "mimetype": "text/x-python",
   "name": "python",
   "nbconvert_exporter": "python",
   "pygments_lexer": "ipython3",
   "version": "3.11.5"
  }
 },
 "nbformat": 4,
 "nbformat_minor": 5
}
